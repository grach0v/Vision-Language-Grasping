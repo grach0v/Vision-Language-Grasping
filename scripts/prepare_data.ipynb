{
 "cells": [
  {
   "cell_type": "markdown",
   "metadata": {},
   "source": [
    "# Overview\n",
    "Simplifies and converts data to urdf.  \n",
    "Note that the notebook initially was in the data folder, so copy it or fix paths laters."
   ]
  },
  {
   "cell_type": "code",
   "execution_count": null,
   "metadata": {},
   "outputs": [
    {
     "name": "stdout",
     "output_type": "stream",
     "text": [
      "Texture‑aware decimator failed, trying without texture: Failed to apply filter: meshing_decimation_quadric_edge_collapse_with_texture\n",
      "Details: Mesh has some inconsistent tex coordinates (some faces without texture)\n",
      "✔  models/075/textured.obj → simplified_models/075/textured_simplified.obj\n",
      "Texture‑aware decimator failed, trying without texture: Failed to apply filter: meshing_decimation_quadric_edge_collapse_with_texture\n",
      "Details: Mesh has some inconsistent tex coordinates (some faces without texture)\n",
      "✔  models/076/textured.obj → simplified_models/076/textured_simplified.obj\n",
      "Texture‑aware decimator failed, trying without texture: Failed to apply filter: meshing_decimation_quadric_edge_collapse_with_texture\n",
      "Details: Mesh has some inconsistent tex coordinates (some faces without texture)\n",
      "✔  models/077/textured.obj → simplified_models/077/textured_simplified.obj\n",
      "Texture‑aware decimator failed, trying without texture: Failed to apply filter: meshing_decimation_quadric_edge_collapse_with_texture\n",
      "Details: Mesh has some inconsistent tex coordinates (some faces without texture)\n",
      "✔  models/078/textured.obj → simplified_models/078/textured_simplified.obj\n",
      "Texture‑aware decimator failed, trying without texture: Failed to apply filter: meshing_decimation_quadric_edge_collapse_with_texture\n",
      "Details: Mesh has some inconsistent tex coordinates (some faces without texture)\n",
      "✔  models/079/textured.obj → simplified_models/079/textured_simplified.obj\n",
      "Texture‑aware decimator failed, trying without texture: Failed to apply filter: meshing_decimation_quadric_edge_collapse_with_texture\n",
      "Details: Mesh has some inconsistent tex coordinates (some faces without texture)\n",
      "✔  models/080/textured.obj → simplified_models/080/textured_simplified.obj\n",
      "Texture‑aware decimator failed, trying without texture: Failed to apply filter: meshing_decimation_quadric_edge_collapse_with_texture\n",
      "Details: Mesh has some inconsistent tex coordinates (some faces without texture)\n",
      "✔  models/081/textured.obj → simplified_models/081/textured_simplified.obj\n",
      "Texture‑aware decimator failed, trying without texture: Failed to apply filter: meshing_decimation_quadric_edge_collapse_with_texture\n",
      "Details: Mesh has some inconsistent tex coordinates (some faces without texture)\n",
      "✔  models/082/textured.obj → simplified_models/082/textured_simplified.obj\n",
      "Texture‑aware decimator failed, trying without texture: Failed to apply filter: meshing_decimation_quadric_edge_collapse_with_texture\n",
      "Details: Mesh has some inconsistent tex coordinates (some faces without texture)\n",
      "✔  models/083/textured.obj → simplified_models/083/textured_simplified.obj\n",
      "Texture‑aware decimator failed, trying without texture: Failed to apply filter: meshing_decimation_quadric_edge_collapse_with_texture\n",
      "Details: Mesh has some inconsistent tex coordinates (some faces without texture)\n",
      "✔  models/084/textured.obj → simplified_models/084/textured_simplified.obj\n",
      "Texture‑aware decimator failed, trying without texture: Failed to apply filter: meshing_decimation_quadric_edge_collapse_with_texture\n",
      "Details: Mesh has some inconsistent tex coordinates (some faces without texture)\n",
      "✔  models/085/textured.obj → simplified_models/085/textured_simplified.obj\n",
      "Texture‑aware decimator failed, trying without texture: Failed to apply filter: meshing_decimation_quadric_edge_collapse_with_texture\n",
      "Details: Mesh has some inconsistent tex coordinates (some faces without texture)\n",
      "✔  models/086/textured.obj → simplified_models/086/textured_simplified.obj\n",
      "Texture‑aware decimator failed, trying without texture: Failed to apply filter: meshing_decimation_quadric_edge_collapse_with_texture\n",
      "Details: Mesh has some inconsistent tex coordinates (some faces without texture)\n",
      "✔  models/087/textured.obj → simplified_models/087/textured_simplified.obj\n"
     ]
    }
   ],
   "source": [
    "import os, shutil, pymeshlab, glob\n",
    "from tqdm.notebook import tqdm \n",
    "\n",
    "SRC_ROOT = 'models'\n",
    "DST_ROOT = 'simplified_models'\n",
    "TARGET_PERC = 0.05           # keep 5 % of the faces\n",
    "\n",
    "for i in tqdm(range(88)):\n",
    "    folder = f'{i:03d}'\n",
    "    src_dir = os.path.join(SRC_ROOT, folder)\n",
    "    dst_dir = os.path.join(DST_ROOT, folder)\n",
    "    os.makedirs(dst_dir, exist_ok=True)\n",
    "\n",
    "    src_obj = os.path.join(src_dir, 'textured.obj')\n",
    "    dst_obj = os.path.join(dst_dir, 'textured_simplified.obj')\n",
    "    if not os.path.isfile(src_obj):\n",
    "        continue\n",
    "\n",
    "    ms = pymeshlab.MeshSet()\n",
    "    ms.load_new_mesh(src_obj)\n",
    "    m = ms.current_mesh()\n",
    "\n",
    "    try:\n",
    "        if m.has_wedge_tex_coord() or m.has_vertex_tex_coord():\n",
    "            # make the UVs consistent first\n",
    "            if not m.has_wedge_tex_coord():\n",
    "                ms.apply_filter('convert_pervertex_uv_into_perwedge_uv')\n",
    "\n",
    "            ms.apply_filter('meshing_decimation_quadric_edge_collapse_with_texture',\n",
    "                            targetperc=TARGET_PERC)              # :contentReference[oaicite:2]{index=2}\n",
    "        else:\n",
    "            ms.apply_filter('meshing_decimation_quadric_edge_collapse',\n",
    "                            targetperc=TARGET_PERC)\n",
    "    except pymeshlab.PyMeshLabException as err:\n",
    "        # fall back to geometry‑only simplification\n",
    "        print('Texture‑aware decimator failed, trying without texture:', err)\n",
    "        ms.apply_filter('meshing_decimation_quadric_edge_collapse',\n",
    "                        targetperc=TARGET_PERC)\n",
    "\n",
    "    ms.save_current_mesh(dst_obj, save_textures=True)\n",
    "\n",
    "    # copy any referenced images so the .mtl keeps working\n",
    "    mtl_out = os.path.splitext(dst_obj)[0] + '.mtl'\n",
    "    if os.path.isfile(mtl_out):\n",
    "        with open(mtl_out) as fh:\n",
    "            for line in fh:\n",
    "                if line.lower().startswith(('map_kd', 'map_ks', 'map_bump', 'map_d')):\n",
    "                    tex = os.path.basename(line.split()[-1])\n",
    "                    if os.path.isfile(os.path.join(src_dir, tex)):\n",
    "                        shutil.copy2(os.path.join(src_dir, tex),\n",
    "                                     os.path.join(dst_dir, tex))\n",
    "\n",
    "    print(f'✔  {src_obj} → {dst_obj}')\n"
   ]
  },
  {
   "cell_type": "code",
   "execution_count": null,
   "metadata": {},
   "outputs": [],
   "source": [
    "/home/dgrachev/Vision-Language-Grasping/assets/simplified_objects/001/textured_simplified.obj"
   ]
  },
  {
   "cell_type": "code",
   "execution_count": 8,
   "metadata": {},
   "outputs": [
    {
     "name": "stderr",
     "output_type": "stream",
     "text": [
      "failed to load image\n",
      "Traceback (most recent call last):\n",
      "  File \"/home/dgrachev/miniconda3/envs/vilg/lib/python3.8/site-packages/trimesh/exchange/obj.py\", line 337, in parse_mtl\n",
      "    file_data = resolver.get(split[1])\n",
      "  File \"/home/dgrachev/miniconda3/envs/vilg/lib/python3.8/site-packages/trimesh/resolvers.py\", line 91, in get\n",
      "    with open(path, 'rb') as f:\n",
      "FileNotFoundError: [Errno 2] No such file or directory: '/home/dgrachev/Vision-Language-Grasping/assets/simplified_objects/001/texture_map.png'\n"
     ]
    },
    {
     "name": "stdout",
     "output_type": "stream",
     "text": [
      "✔  wrote None\n"
     ]
    }
   ],
   "source": [
    "import os, shutil\n",
    "from object2urdf import ObjectUrdfBuilder\n",
    "\n",
    "SRC_ROOT = '../assets/simplified_objects'\n",
    "PROTO = os.path.join(SRC_ROOT, 'obj_prototype.urdf')  # one master prototype\n",
    "\n",
    "for i in range(1, 2):\n",
    "    obj_dir = os.path.join(SRC_ROOT, f'{i:03d}')          \n",
    "    mesh_name = 'textured_simplified.obj'                 \n",
    "    mesh_path = os.path.join(obj_dir, mesh_name)\n",
    "\n",
    "    if not os.path.isfile(mesh_path):\n",
    "        print(f'Skipping {mesh_path} (missing)')\n",
    "        continue\n",
    "\n",
    "    \n",
    "    dst_proto = os.path.join(obj_dir, 'obj_prototype.urdf')\n",
    "    if not os.path.isfile(dst_proto):\n",
    "        shutil.copy2(PROTO, dst_proto)\n",
    "\n",
    "    # build the URDF\n",
    "    builder = ObjectUrdfBuilder(obj_dir, urdf_prototype='obj_prototype.urdf')\n",
    "    # NOTE: pass the path *relative* to obj_dir\n",
    "    urdf_path = builder.build_urdf(filename=mesh_path,          # relative!\n",
    "                                   force_overwrite=True,\n",
    "                                   decompose_concave=True,\n",
    "                                   force_decompose=False,\n",
    "                                   center='mass')               # or 'geometric', 'top', …\n",
    "\n",
    "    print('✔  wrote', urdf_path)\n"
   ]
  },
  {
   "cell_type": "code",
   "execution_count": 6,
   "metadata": {},
   "outputs": [
    {
     "name": "stdout",
     "output_type": "stream",
     "text": [
      "simplified_objects  ur5e  workspace\n"
     ]
    }
   ],
   "source": [
    "!ls ../assets/"
   ]
  },
  {
   "cell_type": "code",
   "execution_count": 2,
   "metadata": {},
   "outputs": [
    {
     "name": "stdout",
     "output_type": "stream",
     "text": [
      "Copied simplified_models to ../assets/simplified_objects/simplified_models\n"
     ]
    }
   ],
   "source": [
    "import shutil\n",
    "import os\n",
    "\n",
    "src_folder = \"simplified_models\"\n",
    "dst_folder = os.path.join(\"..\", \"assets\", \"simplified_objects\", os.path.basename(src_folder))\n",
    "\n",
    "# Remove destination folder if it already exists\n",
    "if os.path.exists(dst_folder):\n",
    "    shutil.rmtree(dst_folder)\n",
    "\n",
    "shutil.copytree(src_folder, dst_folder)\n",
    "print(f\"Copied {src_folder} to {dst_folder}\")"
   ]
  },
  {
   "cell_type": "code",
   "execution_count": 1,
   "metadata": {},
   "outputs": [
    {
     "name": "stdout",
     "output_type": "stream",
     "text": [
      "pybullet build time: Mar 18 2025 18:49:22\n",
      "startThreads creating 1 threads.\n",
      "starting thread 0\n",
      "started thread 0 \n",
      "argc=2\n",
      "argv[0] = --unused\n",
      "argv[1] = --start_demo_name=Physics Server\n",
      "ExampleBrowserThreadFunc started\n",
      "X11 functions dynamically loaded using dlopen/dlsym OK!\n",
      "X11 functions dynamically loaded using dlopen/dlsym OK!\n",
      "Creating context\n",
      "Created GL 3.3 context\n",
      "Direct GLX rendering context obtained\n",
      "Making context current\n",
      "GL_VENDOR=AMD\n",
      "GL_RENDERER=AMD Radeon Graphics (radeonsi, renoir, ACO, DRM 3.61, 6.14.2-arch1-1)\n",
      "GL_VERSION=4.6 (Core Profile) Mesa 25.0.3-arch1.1\n",
      "GL_SHADING_LANGUAGE_VERSION=4.60\n",
      "pthread_getconcurrency()=0\n",
      "Version = 4.6 (Core Profile) Mesa 25.0.3-arch1.1\n",
      "Vendor = AMD\n",
      "Renderer = AMD Radeon Graphics (radeonsi, renoir, ACO, DRM 3.61, 6.14.2-arch1-1)\n",
      "b3Printf: Selected demo: Physics Server\n",
      "startThreads creating 1 threads.\n",
      "starting thread 0\n",
      "started thread 0 \n",
      "MotionThreadFunc thread started\n",
      "ven = AMD\n",
      "ven = AMD\n",
      "numActiveThreads = 0\n",
      "stopping threads\n",
      "Thread with taskId 0 exiting\n",
      "Thread TERMINATED\n",
      "destroy semaphore\n",
      "semaphore destroyed\n",
      "destroy main semaphore\n",
      "main semaphore destroyed\n",
      "finished\n",
      "numActiveThreads = 0\n",
      "btShutDownExampleBrowser stopping threads\n",
      "Thread with taskId 0 exiting\n",
      "Thread TERMINATED\n",
      "destroy semaphore\n",
      "semaphore destroyed\n",
      "destroy main semaphore\n",
      "main semaphore destroyed\n"
     ]
    }
   ],
   "source": [
    "import pybullet as p, time\n",
    "p.connect(p.GUI)                              # opens viewer\n",
    "robot = p.loadURDF(\"../assets/simplified_objects/000.urdf\",\n",
    "                   useFixedBase=True)\n",
    "while p.isConnected():\n",
    "    p.stepSimulation()\n",
    "    time.sleep(1/240.)\n"
   ]
  },
  {
   "cell_type": "code",
   "execution_count": null,
   "metadata": {},
   "outputs": [],
   "source": []
  }
 ],
 "metadata": {
  "kernelspec": {
   "display_name": "vilg",
   "language": "python",
   "name": "python3"
  },
  "language_info": {
   "codemirror_mode": {
    "name": "ipython",
    "version": 3
   },
   "file_extension": ".py",
   "mimetype": "text/x-python",
   "name": "python",
   "nbconvert_exporter": "python",
   "pygments_lexer": "ipython3",
   "version": "3.8.20"
  }
 },
 "nbformat": 4,
 "nbformat_minor": 2
}
